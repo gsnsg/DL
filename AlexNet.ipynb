{
  "nbformat": 4,
  "nbformat_minor": 0,
  "metadata": {
    "colab": {
      "name": "AlexNet.ipynb",
      "provenance": [],
      "authorship_tag": "ABX9TyOSwxWA8mxbqZV7eqw6FlY6",
      "include_colab_link": true
    },
    "kernelspec": {
      "name": "python3",
      "display_name": "Python 3"
    }
  },
  "cells": [
    {
      "cell_type": "markdown",
      "metadata": {
        "id": "view-in-github",
        "colab_type": "text"
      },
      "source": [
        "<a href=\"https://colab.research.google.com/github/sainikhit2k/DL/blob/master/AlexNet.ipynb\" target=\"_parent\"><img src=\"https://colab.research.google.com/assets/colab-badge.svg\" alt=\"Open In Colab\"/></a>"
      ]
    },
    {
      "cell_type": "code",
      "metadata": {
        "id": "MCoHIw7ehHXr",
        "colab_type": "code",
        "colab": {}
      },
      "source": [
        "import tensorflow as tf\n",
        "from keras.layers import Input, Flatten,Dense, Conv2D, MaxPool2D, ZeroPadding2D\n",
        "from keras.models import Model\n"
      ],
      "execution_count": 15,
      "outputs": []
    },
    {
      "cell_type": "code",
      "metadata": {
        "id": "O2wK_jqHhZkl",
        "colab_type": "code",
        "colab": {
          "base_uri": "https://localhost:8080/",
          "height": 731
        },
        "outputId": "9df71bd8-99a1-410f-fa06-797072ee424b"
      },
      "source": [
        "def conv_pool_block(x, n_filters, kernel_size, stride, padd=None, pool=True):\n",
        "\n",
        "  if padd:\n",
        "    x = ZeroPadding2D(padding=(padd,padd))(x)\n",
        "  x = Conv2D(n_filters, kernel_size=kernel_size, strides=stride, activation='relu')(x)\n",
        "  if pool:\n",
        "    x = MaxPool2D(pool_size=(3, 3), strides=(2, 2))(x)\n",
        "\n",
        "  return x\n",
        "\n",
        "\n",
        "def AlexNet(input_shape=(227, 227, 3)):\n",
        "  inp_img = Input(shape=input_shape)\n",
        "  out = conv_pool_block(inp_img, 96, (11,11), (4,4))\n",
        "  out = conv_pool_block(out, 256, (5,5), (1,1), padd=2)\n",
        "  out = conv_pool_block(out, 384, (3,3),(1,1), padd=1, pool=False)\n",
        "  out = conv_pool_block(out, 384, (3,3),(1,1), padd=1, pool=False)\n",
        "  out = conv_pool_block(out, 256, (3,3), (1,1), padd=1, pool=False)\n",
        "  out = MaxPool2D(pool_size=(3,3), strides=(2, 2))(out)\n",
        "  out = Flatten()(out)\n",
        "  out = Dense(4096, activation='relu')(out)\n",
        "  out = Dense(4096, activation='relu')(out)\n",
        "  out = Dense(1000, activation='softmax')(out)\n",
        "  model = Model(inp_img, out)\n",
        "  model.summary()\n",
        "\n",
        "\n",
        "\n",
        "alexNet = AlexNet()\n",
        "\n"
      ],
      "execution_count": 19,
      "outputs": [
        {
          "output_type": "stream",
          "text": [
            "Model: \"model_16\"\n",
            "_________________________________________________________________\n",
            "Layer (type)                 Output Shape              Param #   \n",
            "=================================================================\n",
            "input_17 (InputLayer)        (None, 227, 227, 3)       0         \n",
            "_________________________________________________________________\n",
            "conv2d_40 (Conv2D)           (None, 55, 55, 96)        34944     \n",
            "_________________________________________________________________\n",
            "max_pooling2d_34 (MaxPooling (None, 27, 27, 96)        0         \n",
            "_________________________________________________________________\n",
            "zero_padding2d_10 (ZeroPaddi (None, 31, 31, 96)        0         \n",
            "_________________________________________________________________\n",
            "conv2d_41 (Conv2D)           (None, 27, 27, 256)       614656    \n",
            "_________________________________________________________________\n",
            "max_pooling2d_35 (MaxPooling (None, 13, 13, 256)       0         \n",
            "_________________________________________________________________\n",
            "zero_padding2d_11 (ZeroPaddi (None, 15, 15, 256)       0         \n",
            "_________________________________________________________________\n",
            "conv2d_42 (Conv2D)           (None, 13, 13, 384)       885120    \n",
            "_________________________________________________________________\n",
            "zero_padding2d_12 (ZeroPaddi (None, 15, 15, 384)       0         \n",
            "_________________________________________________________________\n",
            "conv2d_43 (Conv2D)           (None, 13, 13, 384)       1327488   \n",
            "_________________________________________________________________\n",
            "zero_padding2d_13 (ZeroPaddi (None, 15, 15, 384)       0         \n",
            "_________________________________________________________________\n",
            "conv2d_44 (Conv2D)           (None, 13, 13, 256)       884992    \n",
            "_________________________________________________________________\n",
            "max_pooling2d_36 (MaxPooling (None, 6, 6, 256)         0         \n",
            "_________________________________________________________________\n",
            "flatten_4 (Flatten)          (None, 9216)              0         \n",
            "_________________________________________________________________\n",
            "dense_10 (Dense)             (None, 4096)              37752832  \n",
            "_________________________________________________________________\n",
            "dense_11 (Dense)             (None, 4096)              16781312  \n",
            "_________________________________________________________________\n",
            "dense_12 (Dense)             (None, 1000)              4097000   \n",
            "=================================================================\n",
            "Total params: 62,378,344\n",
            "Trainable params: 62,378,344\n",
            "Non-trainable params: 0\n",
            "_________________________________________________________________\n"
          ],
          "name": "stdout"
        }
      ]
    },
    {
      "cell_type": "code",
      "metadata": {
        "id": "Ey6dzmCfinCg",
        "colab_type": "code",
        "colab": {}
      },
      "source": [
        ""
      ],
      "execution_count": null,
      "outputs": []
    }
  ]
}