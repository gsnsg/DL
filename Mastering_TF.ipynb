{
 "cells": [
  {
   "cell_type": "code",
   "execution_count": 2,
   "metadata": {},
   "outputs": [],
   "source": [
    "import tensorflow as tf"
   ]
  },
  {
   "cell_type": "code",
   "execution_count": 3,
   "metadata": {},
   "outputs": [
    {
     "name": "stdout",
     "output_type": "stream",
     "text": [
      "2.0.1\n",
      "True\n",
      "2.2.4-tf\n"
     ]
    }
   ],
   "source": [
    "print(tf.__version__)\n",
    "print(tf.executing_eagerly())\n",
    "print(tf.keras.__version__)"
   ]
  },
  {
   "cell_type": "code",
   "execution_count": 4,
   "metadata": {},
   "outputs": [
    {
     "name": "stdout",
     "output_type": "stream",
     "text": [
      "tf.Tensor(\n",
      "[[2 2 2]\n",
      " [4 4 4]\n",
      " [6 6 6]], shape=(3, 3), dtype=int32)\n",
      "tf.Tensor(12, shape=(), dtype=int32)\n"
     ]
    }
   ],
   "source": [
    "var1 = tf.Variable([2,2,2])\n",
    "\n",
    "\n",
    "var2 = tf.Variable([1, 2, 3])\n",
    "var2 = tf.reshape(var2, [3,1])\n",
    "\n",
    "#  Broadcasting\n",
    "print(var1 * var2)\n",
    "\n",
    "var1 = tf.reshape(var1, [1, 3])\n",
    "\n",
    "# Matrix product\n",
    "matProd = tf.squeeze(tf.linalg.matmul(var1, var2))\n",
    "\n",
    "print(matProd)\n"
   ]
  },
  {
   "cell_type": "code",
   "execution_count": 5,
   "metadata": {},
   "outputs": [
    {
     "name": "stdout",
     "output_type": "stream",
     "text": [
      "(2, 2, 3)\n",
      "(1, 12)\n",
      "tf.Tensor(11.0, shape=(), dtype=float32)\n"
     ]
    }
   ],
   "source": [
    "t2 = tf.Variable([ [ [0., 1., 2.], [3., 4., 5.] ], [ [6., 7., 8.], [9., 10., 11.] ] ])\n",
    "t3 = tf.reshape(t2, [1, 12])\n",
    "print(t2.shape)\n",
    "print(t3.shape)\n",
    "print(t2[1,1,2])"
   ]
  },
  {
   "cell_type": "code",
   "execution_count": 6,
   "metadata": {},
   "outputs": [
    {
     "name": "stdout",
     "output_type": "stream",
     "text": [
      "12\n"
     ]
    }
   ],
   "source": [
    "print(tf.size(t2).numpy())"
   ]
  },
  {
   "cell_type": "code",
   "execution_count": 7,
   "metadata": {},
   "outputs": [
    {
     "name": "stdout",
     "output_type": "stream",
     "text": [
      "tf.Tensor(\n",
      "[[[ 0.  4.  8.]\n",
      "  [12. 16. 20.]]\n",
      "\n",
      " [[24. 28. 32.]\n",
      "  [36. 40. 44.]]], shape=(2, 2, 3), dtype=float32)\n",
      "<tf.Variable 'Variable:0' shape=(2, 2, 3) dtype=float32, numpy=\n",
      "array([[[ 0.,  1.,  2.],\n",
      "        [ 3.,  4.,  5.]],\n",
      "\n",
      "       [[ 6.,  7.,  8.],\n",
      "        [ 9., 10., 11.]]], dtype=float32)>\n"
     ]
    }
   ],
   "source": [
    "t3 = t2 * 4\n",
    "\n",
    "\n",
    "print(t3, sep = \"\\n\\n\")\n",
    "\n",
    "print(t2)"
   ]
  },
  {
   "cell_type": "code",
   "execution_count": 8,
   "metadata": {},
   "outputs": [
    {
     "name": "stdout",
     "output_type": "stream",
     "text": [
      "tf.Tensor(\n",
      "[[[   0.    9.   36.]\n",
      "  [  81.  144.  225.]]\n",
      "\n",
      " [[ 324.  441.  576.]\n",
      "  [ 729.  900. 1089.]]], shape=(2, 2, 3), dtype=float32)\n"
     ]
    }
   ],
   "source": [
    "print(tf.math.squared_difference(t3, t2))"
   ]
  },
  {
   "cell_type": "code",
   "execution_count": 9,
   "metadata": {},
   "outputs": [
    {
     "name": "stdout",
     "output_type": "stream",
     "text": [
      "[[[0 4 8]\n",
      "  [12 16 20]]\n",
      "\n",
      " [[24 28 32]\n",
      "  [36 40 44]]]\n"
     ]
    }
   ],
   "source": [
    "tf.print(t3)"
   ]
  },
  {
   "cell_type": "code",
   "execution_count": 10,
   "metadata": {},
   "outputs": [
    {
     "data": {
      "text/plain": [
       "<tf.Tensor: id=50, shape=(2, 1, 3), dtype=float32, numpy=\n",
       "array([[[ 6., 10., 14.]],\n",
       "\n",
       "       [[30., 34., 38.]]], dtype=float32)>"
      ]
     },
     "execution_count": 10,
     "metadata": {},
     "output_type": "execute_result"
    }
   ],
   "source": [
    "tf.reduce_mean(t3, axis = 1, keepdims=True)"
   ]
  },
  {
   "cell_type": "code",
   "execution_count": 11,
   "metadata": {},
   "outputs": [
    {
     "name": "stdout",
     "output_type": "stream",
     "text": [
      "(2, 1, 3)\n",
      "tf.Tensor(\n",
      "[[92]\n",
      " [ 2]], shape=(2, 1), dtype=int32)\n"
     ]
    }
   ],
   "source": [
    "x = tf.constant([[[1, 220, 55]], [[4, 3, -1]]])\n",
    "print(x.shape)\n",
    "x_mean = tf.reduce_mean(x, axis=-1)\n",
    "print(x_mean)"
   ]
  },
  {
   "cell_type": "code",
   "execution_count": 12,
   "metadata": {},
   "outputs": [],
   "source": [
    "rand1 = tf.Variable(tf.random.uniform([15, 1], 1, 10, seed=42))\n",
    "rand2 = tf.Variable(tf.random.uniform([15, 1], 1, 10, seed=2))\n",
    "\n",
    "\n",
    "sum_rand = rand1 + rand2\n",
    "\n",
    "con = tf.concat([rand1, rand2, sum_rand], axis = 1)"
   ]
  },
  {
   "cell_type": "code",
   "execution_count": 13,
   "metadata": {},
   "outputs": [
    {
     "data": {
      "text/plain": [
       "<tf.Tensor: id=86, shape=(15, 3), dtype=float32, numpy=\n",
       "array([[ 9.570443 ,  7.1087193, 16.679163 ],\n",
       "       [ 7.0966697,  7.427358 , 14.524028 ],\n",
       "       [ 8.157864 ,  5.2283525, 13.386216 ],\n",
       "       [ 7.802036 ,  5.3377275, 13.139763 ],\n",
       "       [ 5.2836003,  5.3054357, 10.589036 ],\n",
       "       [ 6.6791334,  5.9850583, 12.664192 ],\n",
       "       [ 2.6741834,  3.1163325,  5.790516 ],\n",
       "       [ 2.02877  ,  4.94779  ,  6.97656  ],\n",
       "       [ 4.025996 ,  5.3638916,  9.389888 ],\n",
       "       [ 7.5100155,  8.537265 , 16.04728  ],\n",
       "       [ 2.972797 ,  7.014389 ,  9.987186 ],\n",
       "       [ 8.716038 ,  8.317829 , 17.033867 ],\n",
       "       [ 8.415283 ,  2.9054637, 11.320747 ],\n",
       "       [ 6.3587146,  2.3134232,  8.672138 ],\n",
       "       [ 1.0266644,  5.2494345,  6.2760987]], dtype=float32)>"
      ]
     },
     "execution_count": 13,
     "metadata": {},
     "output_type": "execute_result"
    }
   ],
   "source": [
    "con"
   ]
  },
  {
   "cell_type": "code",
   "execution_count": 14,
   "metadata": {},
   "outputs": [],
   "source": [
    "a = tf.zeros((2,2))"
   ]
  },
  {
   "cell_type": "code",
   "execution_count": 15,
   "metadata": {},
   "outputs": [
    {
     "name": "stdout",
     "output_type": "stream",
     "text": [
      "True\n"
     ]
    }
   ],
   "source": [
    "print(tf.executing_eagerly())"
   ]
  },
  {
   "cell_type": "code",
   "execution_count": 16,
   "metadata": {},
   "outputs": [],
   "source": [
    "mnist = tf.keras.datasets.mnist\n",
    "(x_train, y_train), (x_test, y_test) = mnist.load_data()\n",
    "\n",
    "# Normalize the data\n",
    "x_train, x_test = tf.cast(x_train/255.0, tf.float32), tf.cast(x_test/255.0, tf.float32)\n",
    "y_train, y_test = tf.cast(y_train, tf.int64), tf.cast(y_test, tf.int64)"
   ]
  },
  {
   "cell_type": "code",
   "execution_count": 17,
   "metadata": {},
   "outputs": [],
   "source": [
    "model1 = tf.keras.models.Sequential([\n",
    "    tf.keras.layers.Flatten(),\n",
    "    tf.keras.layers.Dense(512, activation=tf.nn.relu),\n",
    "    tf.keras.layers.Dropout(0.2),\n",
    "    tf.keras.layers.Dense(10, activation=tf.nn.softmax)\n",
    "])"
   ]
  },
  {
   "cell_type": "code",
   "execution_count": 18,
   "metadata": {},
   "outputs": [],
   "source": [
    "model1.compile(optimizer=tf.keras.optimizers.Adam(), loss='sparse_categorical_crossentropy', metrics=['accuracy'])"
   ]
  },
  {
   "cell_type": "code",
   "execution_count": 19,
   "metadata": {
    "scrolled": true
   },
   "outputs": [
    {
     "name": "stdout",
     "output_type": "stream",
     "text": [
      "Train on 60000 samples\n",
      "Epoch 1/10\n",
      "60000/60000 [==============================] - 5s 83us/sample - loss: 0.2160 - accuracy: 0.9357\n",
      "Epoch 2/10\n",
      "60000/60000 [==============================] - 4s 74us/sample - loss: 0.0950 - accuracy: 0.9708\n",
      "Epoch 3/10\n",
      "60000/60000 [==============================] - 4s 74us/sample - loss: 0.0698 - accuracy: 0.9784\n",
      "Epoch 4/10\n",
      "60000/60000 [==============================] - 5s 84us/sample - loss: 0.0528 - accuracy: 0.9833\n",
      "Epoch 5/10\n",
      "60000/60000 [==============================] - 5s 84us/sample - loss: 0.0425 - accuracy: 0.9863\n",
      "Epoch 6/10\n",
      "60000/60000 [==============================] - 6s 95us/sample - loss: 0.0351 - accuracy: 0.9881\n",
      "Epoch 7/10\n",
      "60000/60000 [==============================] - 5s 84us/sample - loss: 0.0305 - accuracy: 0.9898\n",
      "Epoch 8/10\n",
      "60000/60000 [==============================] - 5s 83us/sample - loss: 0.0291 - accuracy: 0.9900\n",
      "Epoch 9/10\n",
      "60000/60000 [==============================] - 6s 94us/sample - loss: 0.0237 - accuracy: 0.9920\n",
      "Epoch 10/10\n",
      "60000/60000 [==============================] - 6s 98us/sample - loss: 0.0212 - accuracy: 0.9929\n"
     ]
    }
   ],
   "source": [
    "history = model1.fit(x_train, y_train, batch_size=32, epochs=10)\n"
   ]
  },
  {
   "cell_type": "code",
   "execution_count": 20,
   "metadata": {},
   "outputs": [],
   "source": [
    "import matplotlib.pyplot as plt"
   ]
  },
  {
   "cell_type": "code",
   "execution_count": 21,
   "metadata": {},
   "outputs": [
    {
     "data": {
      "text/plain": [
       "Text(0, 0.5, 'loss')"
      ]
     },
     "execution_count": 21,
     "metadata": {},
     "output_type": "execute_result"
    },
    {
     "data": {
      "image/png": "[encoded data removed]",
      "text/plain": [
       "<Figure size 432x288 with 1 Axes>"
      ]
     },
     "metadata": {
      "needs_background": "light"
     },
     "output_type": "display_data"
    }
   ],
   "source": [
    "plt.plot(history.history[\"loss\"], color=\"orange\")\n",
    "plt.xlabel(\"epochs\")\n",
    "plt.ylabel(\"loss\")\n",
    "# plt.plot(history.history[\"accuracy\"])\n"
   ]
  },
  {
   "cell_type": "code",
   "execution_count": 22,
   "metadata": {},
   "outputs": [
    {
     "data": {
      "text/plain": [
       "Text(0, 0.5, 'accuracy')"
      ]
     },
     "execution_count": 22,
     "metadata": {},
     "output_type": "execute_result"
    },
    {
     "data": {
      "image/png": "[encoded data removed]",
      "text/plain": [
       "<Figure size 432x288 with 1 Axes>"
      ]
     },
     "metadata": {
      "needs_background": "light"
     },
     "output_type": "display_data"
    }
   ],
   "source": [
    "plt.plot(history.history[\"accuracy\"], color=\"blue\")\n",
    "plt.xlabel(\"epochs\")\n",
    "plt.ylabel(\"accuracy\")"
   ]
  },
  {
   "cell_type": "code",
   "execution_count": 23,
   "metadata": {},
   "outputs": [
    {
     "name": "stdout",
     "output_type": "stream",
     "text": [
      "tf.Tensor(267236, shape=(), dtype=int64)\n"
     ]
    }
   ],
   "source": [
    "print(sum(y_train))"
   ]
  },
  {
   "cell_type": "markdown",
   "metadata": {},
   "source": [
    "<h1>Using Functional API </h1>"
   ]
  },
  {
   "cell_type": "code",
   "execution_count": 24,
   "metadata": {},
   "outputs": [],
   "source": [
    "inputs = tf.keras.Input(shape=(28,28))\n",
    "x = tf.keras.layers.Flatten()(inputs)\n",
    "x = tf.keras.layers.Dense(512, activation=tf.nn.relu)(x)\n",
    "x = tf.keras.layers.Dropout(0.2)(x)\n",
    "x = tf.keras.layers.Dense(10, activation=tf.nn.softmax)(x)\n",
    "model = tf.keras.Model(inputs = inputs, outputs=x)"
   ]
  },
  {
   "cell_type": "code",
   "execution_count": 25,
   "metadata": {},
   "outputs": [
    {
     "name": "stdout",
     "output_type": "stream",
     "text": [
      "Model: \"model\"\n",
      "_________________________________________________________________\n",
      "Layer (type)                 Output Shape              Param #   \n",
      "=================================================================\n",
      "input_1 (InputLayer)         [(None, 28, 28)]          0         \n",
      "_________________________________________________________________\n",
      "flatten_1 (Flatten)          (None, 784)               0         \n",
      "_________________________________________________________________\n",
      "dense_2 (Dense)              (None, 512)               401920    \n",
      "_________________________________________________________________\n",
      "dropout_1 (Dropout)          (None, 512)               0         \n",
      "_________________________________________________________________\n",
      "dense_3 (Dense)              (None, 10)                5130      \n",
      "=================================================================\n",
      "Total params: 407,050\n",
      "Trainable params: 407,050\n",
      "Non-trainable params: 0\n",
      "_________________________________________________________________\n"
     ]
    }
   ],
   "source": [
    "model.summary()"
   ]
  },
  {
   "cell_type": "code",
   "execution_count": 26,
   "metadata": {},
   "outputs": [],
   "source": [
    "inp = tf.keras.layers.Input(shape=(28, 28, 1))\n",
    "x = tf.keras.layers.Conv2D(filters=128, kernel_size = (3,3),strides=1, padding=\"same\", activation = tf.nn.relu, name=\"Conv1_128\")(inp)\n",
    "x = tf.keras.layers.Dropout(0.2)(x)\n",
    "x = tf.keras.layers.Flatten()(x)\n",
    "x = tf.keras.layers.Dense(10, activation=tf.nn.softmax)(x)\n",
    "model = tf.keras.models.Model(inputs=inp, outputs=x)"
   ]
  },
  {
   "cell_type": "code",
   "execution_count": 27,
   "metadata": {},
   "outputs": [
    {
     "name": "stdout",
     "output_type": "stream",
     "text": [
      "Model: \"model_1\"\n",
      "_________________________________________________________________\n",
      "Layer (type)                 Output Shape              Param #   \n",
      "=================================================================\n",
      "input_2 (InputLayer)         [(None, 28, 28, 1)]       0         \n",
      "_________________________________________________________________\n",
      "Conv1_128 (Conv2D)           (None, 28, 28, 128)       1280      \n",
      "_________________________________________________________________\n",
      "dropout_2 (Dropout)          (None, 28, 28, 128)       0         \n",
      "_________________________________________________________________\n",
      "flatten_2 (Flatten)          (None, 100352)            0         \n",
      "_________________________________________________________________\n",
      "dense_4 (Dense)              (None, 10)                1003530   \n",
      "=================================================================\n",
      "Total params: 1,004,810\n",
      "Trainable params: 1,004,810\n",
      "Non-trainable params: 0\n",
      "_________________________________________________________________\n"
     ]
    }
   ],
   "source": [
    "model.summary()\n",
    "model.compile(optimizer=tf.keras.optimizers.Adam(), loss='sparse_categorical_crossentropy', metrics=[\"accuracy\"])"
   ]
  },
  {
   "cell_type": "code",
   "execution_count": 28,
   "metadata": {},
   "outputs": [],
   "source": [
    "(x_train, y_train), (x_test, y_test) = mnist.load_data()\n",
    "\n",
    "# Normalize the data\n",
    "x_train, x_test = tf.cast(x_train/255.0, tf.float32), tf.cast(x_test/255.0, tf.float32)\n",
    "y_train, y_test = tf.cast(y_train, tf.int64), tf.cast(y_test, tf.int64)"
   ]
  },
  {
   "cell_type": "code",
   "execution_count": 29,
   "metadata": {},
   "outputs": [],
   "source": [
    "x_train, x_test = tf.expand_dims(x_train, axis=-1), tf.expand_dims(x_test, axis=-1)"
   ]
  },
  {
   "cell_type": "code",
   "execution_count": 32,
   "metadata": {},
   "outputs": [],
   "source": [
    "class myCallback(tf.keras.callbacks.Callback):\n",
    "    def on_epoch_end(self, epoch, logs={}):\n",
    "        if logs[\"accuracy\"] > 0.98:\n",
    "            print(f\"Reached accuracy > 0.98. Stopped training\")\n",
    "            self.model.stop_training = True\n",
    "            \n",
    "callback = myCallback()\n",
    "\n",
    "                  "
   ]
  },
  {
   "cell_type": "code",
   "execution_count": 33,
   "metadata": {},
   "outputs": [
    {
     "name": "stdout",
     "output_type": "stream",
     "text": [
      "Train on 60000 samples\n",
      "Epoch 1/10\n",
      "59936/60000 [============================>.] - ETA: 0s - loss: 0.0605 - accuracy: 0.9814 ETA: 0s - loss: 0.0607 - accura - ETA: 0s - loss: 0.0604 - accuracy: 0.9814Reached accuracy > 0.98. Stopped training\n",
      "60000/60000 [==============================] - 76s 1ms/sample - loss: 0.0604 - accuracy: 0.9814\n"
     ]
    },
    {
     "data": {
      "text/plain": [
       "<tensorflow.python.keras.callbacks.History at 0x131a35850>"
      ]
     },
     "execution_count": 33,
     "metadata": {},
     "output_type": "execute_result"
    }
   ],
   "source": [
    "model.fit(x_train, y_train, callbacks=[callback], batch_size=32, epochs=10)"
   ]
  },
  {
   "cell_type": "markdown",
   "metadata": {},
   "source": [
    "<h1> Using Model Sub Classing <h1>"
   ]
  },
  {
   "cell_type": "code",
   "execution_count": null,
   "metadata": {},
   "outputs": [],
   "source": [
    "class myModel(tf.keras.Model):\n",
    "    def __init__(self, num_classes=10):\n",
    "        super(myModel, self).__init__()\n",
    "        inputs = tf.keras.layers.Input(shape=(28,28))\n",
    "        self.x0 = tf.keras.layers.Flatten()\n",
    "        self.x1 = tf.keras.layers.Dense(512, activation=tf.nn.relu)\n",
    "        self.x2 = tf.keras.layers.Dropout(0.2)\n",
    "        self.x3 = tf.keras.layers.Dense(10, activation=tf.nn.softmax)\n",
    "        \n",
    "    def call(self, inputs):\n",
    "        "
   ]
  },
  {
   "cell_type": "code",
   "execution_count": null,
   "metadata": {},
   "outputs": [],
   "source": []
  }
 ],
 "metadata": {
  "kernelspec": {
   "display_name": "Python 3",
   "language": "python",
   "name": "python3"
  },
  "language_info": {
   "codemirror_mode": {
    "name": "ipython",
    "version": 3
   },
   "file_extension": ".py",
   "mimetype": "text/x-python",
   "name": "python",
   "nbconvert_exporter": "python",
   "pygments_lexer": "ipython3",
   "version": "3.7.5"
  }
 },
 "nbformat": 4,
 "nbformat_minor": 2
}
