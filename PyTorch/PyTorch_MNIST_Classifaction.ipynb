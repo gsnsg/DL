{
  "nbformat": 4,
  "nbformat_minor": 0,
  "metadata": {
    "colab": {
      "name": "PyTorch_MNIST_Classifaction.ipynb",
      "provenance": [],
      "collapsed_sections": [],
      "authorship_tag": "ABX9TyOV8WpvNU5/znaYyvbHa7iO",
      "include_colab_link": true
    },
    "kernelspec": {
      "name": "python3",
      "display_name": "Python 3"
    }
  },
  "cells": [
    {
      "cell_type": "markdown",
      "metadata": {
        "id": "view-in-github",
        "colab_type": "text"
      },
      "source": [
        "<a href=\"https://colab.research.google.com/github/gsnsg/DL/blob/master/PyTorch/PyTorch_MNIST_Classifaction.ipynb\" target=\"_parent\"><img src=\"https://colab.research.google.com/assets/colab-badge.svg\" alt=\"Open In Colab\"/></a>"
      ]
    },
    {
      "cell_type": "code",
      "metadata": {
        "id": "tg5tyc53yEEi",
        "colab_type": "code",
        "colab": {}
      },
      "source": [
        "import torch\n",
        "import torchvision\n",
        "import torch.nn as nn\n",
        "from torchvision.datasets import MNIST\n",
        "from torch.utils.data import DataLoader"
      ],
      "execution_count": 11,
      "outputs": []
    },
    {
      "cell_type": "code",
      "metadata": {
        "id": "CovfXmMkyN7m",
        "colab_type": "code",
        "colab": {}
      },
      "source": [
        "train_dataset = MNIST('.', train=True, transform=torchvision.transforms.ToTensor() ,download=True)\n",
        "test_dataset = MNIST('.', train=False, transform=torchvision.transforms.ToTensor(), download=True)\n",
        "device = torch.device(\"cuda\" if torch.cuda.is_available() else \"cpu\")"
      ],
      "execution_count": 18,
      "outputs": []
    },
    {
      "cell_type": "code",
      "metadata": {
        "id": "48N4b8WcgMNU",
        "colab_type": "code",
        "colab": {}
      },
      "source": [
        "hidden_dim = 128\n",
        "model = nn.Sequential(\n",
        "    nn.Linear(28 * 28, hidden_dim),\n",
        "    nn.ReLU(inplace = True),\n",
        "    nn.Linear(hidden_dim, hidden_dim),\n",
        "    nn.ReLU(inplace=True),\n",
        "    nn.Linear(hidden_dim, 10)\n",
        ")\n",
        "\n",
        "model = model.to(device)"
      ],
      "execution_count": 30,
      "outputs": []
    },
    {
      "cell_type": "code",
      "metadata": {
        "id": "VfR5OObHgP8-",
        "colab_type": "code",
        "colab": {}
      },
      "source": [
        "train_dataloader = DataLoader(train_dataset, batch_size = 64, shuffle = True)\n",
        "test_dataloader = DataLoader(test_dataset, batch_size = 64, shuffle = True)"
      ],
      "execution_count": 32,
      "outputs": []
    },
    {
      "cell_type": "code",
      "metadata": {
        "id": "KurLenWWgdhu",
        "colab_type": "code",
        "colab": {
          "base_uri": "https://localhost:8080/",
          "height": 187
        },
        "outputId": "0718ab43-9551-422c-9700-6437adb2f81b"
      },
      "source": [
        "import tqdm.auto as tqdm\n",
        "\n",
        "criterion = nn.CrossEntropyLoss()\n",
        "opt = torch.optim.Adam(model.parameters(), lr=0.001)\n",
        "\n",
        "n_epochs = 10\n",
        "n_steps = len(train_dataset) // 64 \n",
        "\n",
        "model.train()\n",
        "\n",
        "for epoch in range(n_epochs):\n",
        "\n",
        "  epoch_loss = 0\n",
        "\n",
        "  for X, target in train_dataloader:\n",
        "    cur_batch_size = X.shape[0]\n",
        "\n",
        "    X = X.view(cur_batch_size, -1).to(device)\n",
        "    target = target.to(device)\n",
        "\n",
        "    pred = model(X)\n",
        "    loss = criterion(pred, target)\n",
        "    \n",
        "    epoch_loss += loss.item()\n",
        "    opt.zero_grad()\n",
        "    loss.backward()\n",
        "    opt.step()\n",
        "  \n",
        "  print(f'Epoch: {epoch + 1}, Loss: {epoch_loss}')\n",
        "\n",
        "\n",
        "\n",
        "\n"
      ],
      "execution_count": 33,
      "outputs": [
        {
          "output_type": "stream",
          "text": [
            "Epoch: 1, Loss: 298.0083209872246\n",
            "Epoch: 2, Loss: 122.64717141818255\n",
            "Epoch: 3, Loss: 81.12427589995787\n",
            "Epoch: 4, Loss: 60.377453226130456\n",
            "Epoch: 5, Loss: 47.07831170014106\n",
            "Epoch: 6, Loss: 41.07251304562669\n",
            "Epoch: 7, Loss: 32.123200696602\n",
            "Epoch: 8, Loss: 26.627845267459634\n",
            "Epoch: 9, Loss: 21.131691711081658\n",
            "Epoch: 10, Loss: 18.810820294704172\n"
          ],
          "name": "stdout"
        }
      ]
    },
    {
      "cell_type": "code",
      "metadata": {
        "id": "zQz2rvdQglvP",
        "colab_type": "code",
        "colab": {
          "base_uri": "https://localhost:8080/",
          "height": 34
        },
        "outputId": "faad9a90-a5cb-47e5-8e59-4369c72c0907"
      },
      "source": [
        "num_correct =  0\n",
        "\n",
        "model.eval()\n",
        "\n",
        "with torch.no_grad():\n",
        "  for X, target in test_dataloader:\n",
        "    X = X.view(X.shape[0], -1).to(device)\n",
        "    target = target.to(device)\n",
        "\n",
        "    pred = model(X)\n",
        "    vals, ind = torch.max(pred, axis = 1)\n",
        "\n",
        "    num_correct += torch.sum(ind == target)\n",
        "\n",
        "print(\"Accuracy: \", num_correct.item() / len(test_dataset))"
      ],
      "execution_count": 41,
      "outputs": [
        {
          "output_type": "stream",
          "text": [
            "Accuracy:  0.9754\n"
          ],
          "name": "stdout"
        }
      ]
    },
    {
      "cell_type": "code",
      "metadata": {
        "id": "BPmoV9QlhB0e",
        "colab_type": "code",
        "colab": {}
      },
      "source": [
        ""
      ],
      "execution_count": null,
      "outputs": []
    }
  ]
}